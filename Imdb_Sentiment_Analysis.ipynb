{
  "nbformat": 4,
  "nbformat_minor": 0,
  "metadata": {
    "colab": {
      "provenance": [],
      "authorship_tag": "ABX9TyMUVWEl89a7wNJZVPhrZp3s",
      "include_colab_link": true
    },
    "kernelspec": {
      "name": "python3",
      "display_name": "Python 3"
    },
    "language_info": {
      "name": "python"
    },
    "accelerator": "GPU",
    "gpuClass": "standard"
  },
  "cells": [
    {
      "cell_type": "markdown",
      "metadata": {
        "id": "view-in-github",
        "colab_type": "text"
      },
      "source": [
        "<a href=\"https://colab.research.google.com/github/nikhil-xyz/Imdb-Sentiment-Analysis/blob/main/Imdb_Sentiment_Analysis.ipynb\" target=\"_parent\"><img src=\"https://colab.research.google.com/assets/colab-badge.svg\" alt=\"Open In Colab\"/></a>"
      ]
    },
    {
      "cell_type": "code",
      "execution_count": 93,
      "metadata": {
        "colab": {
          "base_uri": "https://localhost:8080/"
        },
        "id": "Y8zh6Zyzq5hq",
        "outputId": "9ceab091-661d-46db-e3cc-04b64d44011e"
      },
      "outputs": [
        {
          "output_type": "stream",
          "name": "stdout",
          "text": [
            "fatal: destination path 'Imdb-Sentiment-Analysis' already exists and is not an empty directory.\n"
          ]
        }
      ],
      "source": [
        "! git clone https://github.com/nikhil-xyz/Imdb-Sentiment-Analysis.git"
      ]
    },
    {
      "cell_type": "code",
      "source": [
        "import pandas as pd"
      ],
      "metadata": {
        "id": "Q3utP24prEdj"
      },
      "execution_count": 94,
      "outputs": []
    },
    {
      "cell_type": "code",
      "source": [
        "data = pd.read_csv('/content/Imdb-Sentiment-Analysis/Train.csv')"
      ],
      "metadata": {
        "id": "dspWnN8wrWBm"
      },
      "execution_count": 95,
      "outputs": []
    },
    {
      "cell_type": "code",
      "source": [
        "data.head()"
      ],
      "metadata": {
        "colab": {
          "base_uri": "https://localhost:8080/",
          "height": 206
        },
        "id": "saYxgL3frZfK",
        "outputId": "4996566b-64eb-4d24-83b5-fe5214762571"
      },
      "execution_count": 96,
      "outputs": [
        {
          "output_type": "execute_result",
          "data": {
            "text/plain": [
              "                                                text  label\n",
              "0  I grew up (b. 1965) watching and loving the Th...      0\n",
              "1  When I put this movie in my DVD player, and sa...      0\n",
              "2  Why do people who do not know what a particula...      0\n",
              "3  Even though I have great interest in Biblical ...      0\n",
              "4  Im a die hard Dads Army fan and nothing will e...      1"
            ],
            "text/html": [
              "\n",
              "  <div id=\"df-2e6df0d6-694b-4c59-ad5e-e3259e1e27bf\">\n",
              "    <div class=\"colab-df-container\">\n",
              "      <div>\n",
              "<style scoped>\n",
              "    .dataframe tbody tr th:only-of-type {\n",
              "        vertical-align: middle;\n",
              "    }\n",
              "\n",
              "    .dataframe tbody tr th {\n",
              "        vertical-align: top;\n",
              "    }\n",
              "\n",
              "    .dataframe thead th {\n",
              "        text-align: right;\n",
              "    }\n",
              "</style>\n",
              "<table border=\"1\" class=\"dataframe\">\n",
              "  <thead>\n",
              "    <tr style=\"text-align: right;\">\n",
              "      <th></th>\n",
              "      <th>text</th>\n",
              "      <th>label</th>\n",
              "    </tr>\n",
              "  </thead>\n",
              "  <tbody>\n",
              "    <tr>\n",
              "      <th>0</th>\n",
              "      <td>I grew up (b. 1965) watching and loving the Th...</td>\n",
              "      <td>0</td>\n",
              "    </tr>\n",
              "    <tr>\n",
              "      <th>1</th>\n",
              "      <td>When I put this movie in my DVD player, and sa...</td>\n",
              "      <td>0</td>\n",
              "    </tr>\n",
              "    <tr>\n",
              "      <th>2</th>\n",
              "      <td>Why do people who do not know what a particula...</td>\n",
              "      <td>0</td>\n",
              "    </tr>\n",
              "    <tr>\n",
              "      <th>3</th>\n",
              "      <td>Even though I have great interest in Biblical ...</td>\n",
              "      <td>0</td>\n",
              "    </tr>\n",
              "    <tr>\n",
              "      <th>4</th>\n",
              "      <td>Im a die hard Dads Army fan and nothing will e...</td>\n",
              "      <td>1</td>\n",
              "    </tr>\n",
              "  </tbody>\n",
              "</table>\n",
              "</div>\n",
              "      <button class=\"colab-df-convert\" onclick=\"convertToInteractive('df-2e6df0d6-694b-4c59-ad5e-e3259e1e27bf')\"\n",
              "              title=\"Convert this dataframe to an interactive table.\"\n",
              "              style=\"display:none;\">\n",
              "        \n",
              "  <svg xmlns=\"http://www.w3.org/2000/svg\" height=\"24px\"viewBox=\"0 0 24 24\"\n",
              "       width=\"24px\">\n",
              "    <path d=\"M0 0h24v24H0V0z\" fill=\"none\"/>\n",
              "    <path d=\"M18.56 5.44l.94 2.06.94-2.06 2.06-.94-2.06-.94-.94-2.06-.94 2.06-2.06.94zm-11 1L8.5 8.5l.94-2.06 2.06-.94-2.06-.94L8.5 2.5l-.94 2.06-2.06.94zm10 10l.94 2.06.94-2.06 2.06-.94-2.06-.94-.94-2.06-.94 2.06-2.06.94z\"/><path d=\"M17.41 7.96l-1.37-1.37c-.4-.4-.92-.59-1.43-.59-.52 0-1.04.2-1.43.59L10.3 9.45l-7.72 7.72c-.78.78-.78 2.05 0 2.83L4 21.41c.39.39.9.59 1.41.59.51 0 1.02-.2 1.41-.59l7.78-7.78 2.81-2.81c.8-.78.8-2.07 0-2.86zM5.41 20L4 18.59l7.72-7.72 1.47 1.35L5.41 20z\"/>\n",
              "  </svg>\n",
              "      </button>\n",
              "      \n",
              "  <style>\n",
              "    .colab-df-container {\n",
              "      display:flex;\n",
              "      flex-wrap:wrap;\n",
              "      gap: 12px;\n",
              "    }\n",
              "\n",
              "    .colab-df-convert {\n",
              "      background-color: #E8F0FE;\n",
              "      border: none;\n",
              "      border-radius: 50%;\n",
              "      cursor: pointer;\n",
              "      display: none;\n",
              "      fill: #1967D2;\n",
              "      height: 32px;\n",
              "      padding: 0 0 0 0;\n",
              "      width: 32px;\n",
              "    }\n",
              "\n",
              "    .colab-df-convert:hover {\n",
              "      background-color: #E2EBFA;\n",
              "      box-shadow: 0px 1px 2px rgba(60, 64, 67, 0.3), 0px 1px 3px 1px rgba(60, 64, 67, 0.15);\n",
              "      fill: #174EA6;\n",
              "    }\n",
              "\n",
              "    [theme=dark] .colab-df-convert {\n",
              "      background-color: #3B4455;\n",
              "      fill: #D2E3FC;\n",
              "    }\n",
              "\n",
              "    [theme=dark] .colab-df-convert:hover {\n",
              "      background-color: #434B5C;\n",
              "      box-shadow: 0px 1px 3px 1px rgba(0, 0, 0, 0.15);\n",
              "      filter: drop-shadow(0px 1px 2px rgba(0, 0, 0, 0.3));\n",
              "      fill: #FFFFFF;\n",
              "    }\n",
              "  </style>\n",
              "\n",
              "      <script>\n",
              "        const buttonEl =\n",
              "          document.querySelector('#df-2e6df0d6-694b-4c59-ad5e-e3259e1e27bf button.colab-df-convert');\n",
              "        buttonEl.style.display =\n",
              "          google.colab.kernel.accessAllowed ? 'block' : 'none';\n",
              "\n",
              "        async function convertToInteractive(key) {\n",
              "          const element = document.querySelector('#df-2e6df0d6-694b-4c59-ad5e-e3259e1e27bf');\n",
              "          const dataTable =\n",
              "            await google.colab.kernel.invokeFunction('convertToInteractive',\n",
              "                                                     [key], {});\n",
              "          if (!dataTable) return;\n",
              "\n",
              "          const docLinkHtml = 'Like what you see? Visit the ' +\n",
              "            '<a target=\"_blank\" href=https://colab.research.google.com/notebooks/data_table.ipynb>data table notebook</a>'\n",
              "            + ' to learn more about interactive tables.';\n",
              "          element.innerHTML = '';\n",
              "          dataTable['output_type'] = 'display_data';\n",
              "          await google.colab.output.renderOutput(dataTable, element);\n",
              "          const docLink = document.createElement('div');\n",
              "          docLink.innerHTML = docLinkHtml;\n",
              "          element.appendChild(docLink);\n",
              "        }\n",
              "      </script>\n",
              "    </div>\n",
              "  </div>\n",
              "  "
            ]
          },
          "metadata": {},
          "execution_count": 96
        }
      ]
    },
    {
      "cell_type": "code",
      "source": [
        "data.shape"
      ],
      "metadata": {
        "colab": {
          "base_uri": "https://localhost:8080/"
        },
        "id": "ncuQ-26mrbTW",
        "outputId": "a2ac58d4-00c9-4f8b-e52e-c0c0a5252268"
      },
      "execution_count": 97,
      "outputs": [
        {
          "output_type": "execute_result",
          "data": {
            "text/plain": [
              "(40000, 2)"
            ]
          },
          "metadata": {},
          "execution_count": 97
        }
      ]
    },
    {
      "cell_type": "code",
      "source": [
        "data.isnull().sum()"
      ],
      "metadata": {
        "colab": {
          "base_uri": "https://localhost:8080/"
        },
        "id": "NVmSkehcrdeD",
        "outputId": "ae1f160a-6a99-434a-f60d-1bfc2ef9428c"
      },
      "execution_count": 98,
      "outputs": [
        {
          "output_type": "execute_result",
          "data": {
            "text/plain": [
              "text     0\n",
              "label    0\n",
              "dtype: int64"
            ]
          },
          "metadata": {},
          "execution_count": 98
        }
      ]
    },
    {
      "cell_type": "code",
      "source": [
        "list(data.groupby('label'))"
      ],
      "metadata": {
        "colab": {
          "base_uri": "https://localhost:8080/"
        },
        "id": "28KNZhAArg5b",
        "outputId": "070b0295-0a14-45cd-d4b2-ed39f3c1b7e8"
      },
      "execution_count": 99,
      "outputs": [
        {
          "output_type": "execute_result",
          "data": {
            "text/plain": [
              "[(0,                                                     text  label\n",
              "  0      I grew up (b. 1965) watching and loving the Th...      0\n",
              "  1      When I put this movie in my DVD player, and sa...      0\n",
              "  2      Why do people who do not know what a particula...      0\n",
              "  3      Even though I have great interest in Biblical ...      0\n",
              "  5      A terrible movie as everyone has said. What ma...      0\n",
              "  ...                                                  ...    ...\n",
              "  39984  I couldn't relate to this film. It failed to e...      0\n",
              "  39985  Comedy? What's so funny about watching an ugly...      0\n",
              "  39993  \"The Best Movie of the 90's\" \"The Welsh Trains...      0\n",
              "  39994  My girlfriend has the habit of going to Blockb...      0\n",
              "  39997  My wife and I watched this movie because we pl...      0\n",
              "  \n",
              "  [20019 rows x 2 columns]),\n",
              " (1,                                                     text  label\n",
              "  4      Im a die hard Dads Army fan and nothing will e...      1\n",
              "  6      Finally watched this shocking movie last night...      1\n",
              "  8      It may be the remake of 1987 Autumn's Tale aft...      1\n",
              "  9      My Super Ex Girlfriend turned out to be a plea...      1\n",
              "  10     I can't believe people are looking for a plot ...      1\n",
              "  ...                                                  ...    ...\n",
              "  39992  Although I agree that it's a good but not grea...      1\n",
              "  39995  \"Western Union\" is something of a forgotten cl...      1\n",
              "  39996  This movie is an incredible piece of work. It ...      1\n",
              "  39998  When I first watched Flatliners, I was amazed....      1\n",
              "  39999  Why would this film be so good, but only gross...      1\n",
              "  \n",
              "  [19981 rows x 2 columns])]"
            ]
          },
          "metadata": {},
          "execution_count": 99
        }
      ]
    },
    {
      "cell_type": "code",
      "source": [
        "# removing panctuations\n",
        "import string\n",
        "data['text'] = data['text'].apply(lambda word:[letters.lower() for letters in word if letters not in string.punctuation])\n",
        "data['text'] = data['text'].apply(lambda word:''.join(word))"
      ],
      "metadata": {
        "id": "c5MTrQlWv8__"
      },
      "execution_count": 100,
      "outputs": []
    },
    {
      "cell_type": "code",
      "source": [
        "data"
      ],
      "metadata": {
        "colab": {
          "base_uri": "https://localhost:8080/",
          "height": 423
        },
        "id": "F3LJME7pwIcg",
        "outputId": "94b5da15-0c65-4320-b78a-f65d8227bc59"
      },
      "execution_count": 101,
      "outputs": [
        {
          "output_type": "execute_result",
          "data": {
            "text/plain": [
              "                                                    text  label\n",
              "0      i grew up b 1965 watching and loving the thund...      0\n",
              "1      when i put this movie in my dvd player and sat...      0\n",
              "2      why do people who do not know what a particula...      0\n",
              "3      even though i have great interest in biblical ...      0\n",
              "4      im a die hard dads army fan and nothing will e...      1\n",
              "...                                                  ...    ...\n",
              "39995  western union is something of a forgotten clas...      1\n",
              "39996  this movie is an incredible piece of work it e...      1\n",
              "39997  my wife and i watched this movie because we pl...      0\n",
              "39998  when i first watched flatliners i was amazed i...      1\n",
              "39999  why would this film be so good but only gross ...      1\n",
              "\n",
              "[40000 rows x 2 columns]"
            ],
            "text/html": [
              "\n",
              "  <div id=\"df-11120a25-4a0b-4931-8c5f-a0d7de30574c\">\n",
              "    <div class=\"colab-df-container\">\n",
              "      <div>\n",
              "<style scoped>\n",
              "    .dataframe tbody tr th:only-of-type {\n",
              "        vertical-align: middle;\n",
              "    }\n",
              "\n",
              "    .dataframe tbody tr th {\n",
              "        vertical-align: top;\n",
              "    }\n",
              "\n",
              "    .dataframe thead th {\n",
              "        text-align: right;\n",
              "    }\n",
              "</style>\n",
              "<table border=\"1\" class=\"dataframe\">\n",
              "  <thead>\n",
              "    <tr style=\"text-align: right;\">\n",
              "      <th></th>\n",
              "      <th>text</th>\n",
              "      <th>label</th>\n",
              "    </tr>\n",
              "  </thead>\n",
              "  <tbody>\n",
              "    <tr>\n",
              "      <th>0</th>\n",
              "      <td>i grew up b 1965 watching and loving the thund...</td>\n",
              "      <td>0</td>\n",
              "    </tr>\n",
              "    <tr>\n",
              "      <th>1</th>\n",
              "      <td>when i put this movie in my dvd player and sat...</td>\n",
              "      <td>0</td>\n",
              "    </tr>\n",
              "    <tr>\n",
              "      <th>2</th>\n",
              "      <td>why do people who do not know what a particula...</td>\n",
              "      <td>0</td>\n",
              "    </tr>\n",
              "    <tr>\n",
              "      <th>3</th>\n",
              "      <td>even though i have great interest in biblical ...</td>\n",
              "      <td>0</td>\n",
              "    </tr>\n",
              "    <tr>\n",
              "      <th>4</th>\n",
              "      <td>im a die hard dads army fan and nothing will e...</td>\n",
              "      <td>1</td>\n",
              "    </tr>\n",
              "    <tr>\n",
              "      <th>...</th>\n",
              "      <td>...</td>\n",
              "      <td>...</td>\n",
              "    </tr>\n",
              "    <tr>\n",
              "      <th>39995</th>\n",
              "      <td>western union is something of a forgotten clas...</td>\n",
              "      <td>1</td>\n",
              "    </tr>\n",
              "    <tr>\n",
              "      <th>39996</th>\n",
              "      <td>this movie is an incredible piece of work it e...</td>\n",
              "      <td>1</td>\n",
              "    </tr>\n",
              "    <tr>\n",
              "      <th>39997</th>\n",
              "      <td>my wife and i watched this movie because we pl...</td>\n",
              "      <td>0</td>\n",
              "    </tr>\n",
              "    <tr>\n",
              "      <th>39998</th>\n",
              "      <td>when i first watched flatliners i was amazed i...</td>\n",
              "      <td>1</td>\n",
              "    </tr>\n",
              "    <tr>\n",
              "      <th>39999</th>\n",
              "      <td>why would this film be so good but only gross ...</td>\n",
              "      <td>1</td>\n",
              "    </tr>\n",
              "  </tbody>\n",
              "</table>\n",
              "<p>40000 rows × 2 columns</p>\n",
              "</div>\n",
              "      <button class=\"colab-df-convert\" onclick=\"convertToInteractive('df-11120a25-4a0b-4931-8c5f-a0d7de30574c')\"\n",
              "              title=\"Convert this dataframe to an interactive table.\"\n",
              "              style=\"display:none;\">\n",
              "        \n",
              "  <svg xmlns=\"http://www.w3.org/2000/svg\" height=\"24px\"viewBox=\"0 0 24 24\"\n",
              "       width=\"24px\">\n",
              "    <path d=\"M0 0h24v24H0V0z\" fill=\"none\"/>\n",
              "    <path d=\"M18.56 5.44l.94 2.06.94-2.06 2.06-.94-2.06-.94-.94-2.06-.94 2.06-2.06.94zm-11 1L8.5 8.5l.94-2.06 2.06-.94-2.06-.94L8.5 2.5l-.94 2.06-2.06.94zm10 10l.94 2.06.94-2.06 2.06-.94-2.06-.94-.94-2.06-.94 2.06-2.06.94z\"/><path d=\"M17.41 7.96l-1.37-1.37c-.4-.4-.92-.59-1.43-.59-.52 0-1.04.2-1.43.59L10.3 9.45l-7.72 7.72c-.78.78-.78 2.05 0 2.83L4 21.41c.39.39.9.59 1.41.59.51 0 1.02-.2 1.41-.59l7.78-7.78 2.81-2.81c.8-.78.8-2.07 0-2.86zM5.41 20L4 18.59l7.72-7.72 1.47 1.35L5.41 20z\"/>\n",
              "  </svg>\n",
              "      </button>\n",
              "      \n",
              "  <style>\n",
              "    .colab-df-container {\n",
              "      display:flex;\n",
              "      flex-wrap:wrap;\n",
              "      gap: 12px;\n",
              "    }\n",
              "\n",
              "    .colab-df-convert {\n",
              "      background-color: #E8F0FE;\n",
              "      border: none;\n",
              "      border-radius: 50%;\n",
              "      cursor: pointer;\n",
              "      display: none;\n",
              "      fill: #1967D2;\n",
              "      height: 32px;\n",
              "      padding: 0 0 0 0;\n",
              "      width: 32px;\n",
              "    }\n",
              "\n",
              "    .colab-df-convert:hover {\n",
              "      background-color: #E2EBFA;\n",
              "      box-shadow: 0px 1px 2px rgba(60, 64, 67, 0.3), 0px 1px 3px 1px rgba(60, 64, 67, 0.15);\n",
              "      fill: #174EA6;\n",
              "    }\n",
              "\n",
              "    [theme=dark] .colab-df-convert {\n",
              "      background-color: #3B4455;\n",
              "      fill: #D2E3FC;\n",
              "    }\n",
              "\n",
              "    [theme=dark] .colab-df-convert:hover {\n",
              "      background-color: #434B5C;\n",
              "      box-shadow: 0px 1px 3px 1px rgba(0, 0, 0, 0.15);\n",
              "      filter: drop-shadow(0px 1px 2px rgba(0, 0, 0, 0.3));\n",
              "      fill: #FFFFFF;\n",
              "    }\n",
              "  </style>\n",
              "\n",
              "      <script>\n",
              "        const buttonEl =\n",
              "          document.querySelector('#df-11120a25-4a0b-4931-8c5f-a0d7de30574c button.colab-df-convert');\n",
              "        buttonEl.style.display =\n",
              "          google.colab.kernel.accessAllowed ? 'block' : 'none';\n",
              "\n",
              "        async function convertToInteractive(key) {\n",
              "          const element = document.querySelector('#df-11120a25-4a0b-4931-8c5f-a0d7de30574c');\n",
              "          const dataTable =\n",
              "            await google.colab.kernel.invokeFunction('convertToInteractive',\n",
              "                                                     [key], {});\n",
              "          if (!dataTable) return;\n",
              "\n",
              "          const docLinkHtml = 'Like what you see? Visit the ' +\n",
              "            '<a target=\"_blank\" href=https://colab.research.google.com/notebooks/data_table.ipynb>data table notebook</a>'\n",
              "            + ' to learn more about interactive tables.';\n",
              "          element.innerHTML = '';\n",
              "          dataTable['output_type'] = 'display_data';\n",
              "          await google.colab.output.renderOutput(dataTable, element);\n",
              "          const docLink = document.createElement('div');\n",
              "          docLink.innerHTML = docLinkHtml;\n",
              "          element.appendChild(docLink);\n",
              "        }\n",
              "      </script>\n",
              "    </div>\n",
              "  </div>\n",
              "  "
            ]
          },
          "metadata": {},
          "execution_count": 101
        }
      ]
    },
    {
      "cell_type": "code",
      "source": [
        "import nltk\n",
        "nltk.download('stopwords')\n",
        "nltk.download('wordnet')\n",
        "nltk.download('omw-1.4')\n",
        "from nltk.corpus import stopwords\n",
        "from nltk.stem import WordNetLemmatizer"
      ],
      "metadata": {
        "colab": {
          "base_uri": "https://localhost:8080/"
        },
        "id": "WZ8HEg2LvGM4",
        "outputId": "90f43216-daa5-4fdd-9400-ebbb3eae9a0c"
      },
      "execution_count": 102,
      "outputs": [
        {
          "output_type": "stream",
          "name": "stderr",
          "text": [
            "[nltk_data] Downloading package stopwords to /root/nltk_data...\n",
            "[nltk_data]   Package stopwords is already up-to-date!\n",
            "[nltk_data] Downloading package wordnet to /root/nltk_data...\n",
            "[nltk_data]   Package wordnet is already up-to-date!\n",
            "[nltk_data] Downloading package omw-1.4 to /root/nltk_data...\n",
            "[nltk_data]   Package omw-1.4 is already up-to-date!\n"
          ]
        }
      ]
    },
    {
      "cell_type": "code",
      "source": [
        "wnl = WordNetLemmatizer()\n",
        "def preprocess(text):\n",
        "  text = text.lower()\n",
        "  text = text.split()\n",
        "  text = [wnl.lemmatize(word) for word in text if not word in stopwords.words('english')]\n",
        "  text = ' '.join(text)\n",
        "  return text"
      ],
      "metadata": {
        "id": "8MYLz0Maro9-"
      },
      "execution_count": 103,
      "outputs": []
    },
    {
      "cell_type": "code",
      "source": [
        "data['text'] = data['text'].apply(preprocess)"
      ],
      "metadata": {
        "id": "ArnBbd-mwtG8"
      },
      "execution_count": 104,
      "outputs": []
    },
    {
      "cell_type": "code",
      "source": [
        "data.iloc[0]['text']"
      ],
      "metadata": {
        "colab": {
          "base_uri": "https://localhost:8080/",
          "height": 105
        },
        "id": "YgK_l1Eg2lY4",
        "outputId": "853cd69f-17c5-49a4-b3ad-249872c46001"
      },
      "execution_count": 105,
      "outputs": [
        {
          "output_type": "execute_result",
          "data": {
            "text/plain": [
              "'grew b 1965 watching loving thunderbird mate school watched played thunderbird school lunch school wanted virgil scott one wanted alan counting 5 became art form took child see movie hoping would get glimpse loved child bitterly disappointing high point snappy theme tune could compare original score thunderbird thankfully early saturday morning one television channel still play rerun series gerry anderson wife created jonatha frakes hand director chair version completely hopeless waste film utter rubbish cgi remake may acceptable replacing marionette homo sapiens subsp sapiens huge error judgment'"
            ],
            "application/vnd.google.colaboratory.intrinsic+json": {
              "type": "string"
            }
          },
          "metadata": {},
          "execution_count": 105
        }
      ]
    },
    {
      "cell_type": "code",
      "source": [
        "import tensorflow as tf"
      ],
      "metadata": {
        "id": "xMxEkg-i4qVR"
      },
      "execution_count": 106,
      "outputs": []
    },
    {
      "cell_type": "code",
      "source": [
        "X = data['text']\n",
        "y = data['label'].values"
      ],
      "metadata": {
        "id": "XN68C7eW4tnI"
      },
      "execution_count": 107,
      "outputs": []
    },
    {
      "cell_type": "code",
      "source": [
        "vocab_size = 70000\n",
        "from tensorflow.keras.layers import TextVectorization\n",
        "vectorizer = TextVectorization(max_tokens = vocab_size, output_sequence_length=512, output_mode='int')\n",
        "vectorizer.adapt(X.values)"
      ],
      "metadata": {
        "id": "7yM5iOeh6TBx"
      },
      "execution_count": 108,
      "outputs": []
    },
    {
      "cell_type": "code",
      "source": [
        "vectorized_text = vectorizer(X.values)"
      ],
      "metadata": {
        "id": "ahw4S5N27AVB"
      },
      "execution_count": 109,
      "outputs": []
    },
    {
      "cell_type": "code",
      "source": [
        "vectorized_text.shape"
      ],
      "metadata": {
        "colab": {
          "base_uri": "https://localhost:8080/"
        },
        "id": "1sRT_gSq74yh",
        "outputId": "8cea7136-05d4-447c-ffdf-463ba96f8402"
      },
      "execution_count": 110,
      "outputs": [
        {
          "output_type": "execute_result",
          "data": {
            "text/plain": [
              "TensorShape([40000, 512])"
            ]
          },
          "metadata": {},
          "execution_count": 110
        }
      ]
    },
    {
      "cell_type": "code",
      "source": [
        "import pickle\n",
        "pickle.dump({'config': vectorizer.get_config(),\n",
        "             'weights': vectorizer.get_weights()}\n",
        "            , open(\"vectorizer.pkl\", \"wb\"))"
      ],
      "metadata": {
        "id": "Y97W5I5M68E6"
      },
      "execution_count": 111,
      "outputs": []
    },
    {
      "cell_type": "code",
      "source": [],
      "metadata": {
        "id": "mvkxM-Ft69Pp"
      },
      "execution_count": 111,
      "outputs": []
    },
    {
      "cell_type": "code",
      "source": [
        "dataset = tf.data.Dataset.from_tensor_slices((vectorized_text, y))\n",
        "dataset = dataset.cache()\n",
        "dataset = dataset.shuffle(1600)\n",
        "dataset = dataset.batch(16)\n",
        "dataset = dataset.prefetch(8)"
      ],
      "metadata": {
        "id": "hEA1Z3IL4oCK"
      },
      "execution_count": 112,
      "outputs": []
    },
    {
      "cell_type": "code",
      "source": [
        "len(dataset)"
      ],
      "metadata": {
        "colab": {
          "base_uri": "https://localhost:8080/"
        },
        "id": "MyYSGdab-gGx",
        "outputId": "edf3ad22-d0c2-4146-cd18-1f78f6d713a1"
      },
      "execution_count": 113,
      "outputs": [
        {
          "output_type": "execute_result",
          "data": {
            "text/plain": [
              "2500"
            ]
          },
          "metadata": {},
          "execution_count": 113
        }
      ]
    },
    {
      "cell_type": "code",
      "source": [
        "train = dataset.take(int(len(dataset)*0.7))\n",
        "val = dataset.skip(int(len(dataset)*0.7)).take(int(len(dataset)*0.2))\n",
        "test = dataset.skip(int(len(dataset)*0.9)).take(int(len(dataset)*0.1))"
      ],
      "metadata": {
        "id": "PxRa-iLx4SzT"
      },
      "execution_count": 114,
      "outputs": []
    },
    {
      "cell_type": "code",
      "source": [
        "train.as_numpy_iterator()"
      ],
      "metadata": {
        "colab": {
          "base_uri": "https://localhost:8080/"
        },
        "id": "x1uv5GwU8qk5",
        "outputId": "368ad5a0-be8a-437e-d8ea-8c3feaac3241"
      },
      "execution_count": 115,
      "outputs": [
        {
          "output_type": "execute_result",
          "data": {
            "text/plain": [
              "<tensorflow.python.data.ops.dataset_ops._NumpyIterator at 0x7fab0c6b93a0>"
            ]
          },
          "metadata": {},
          "execution_count": 115
        }
      ]
    },
    {
      "cell_type": "code",
      "source": [
        "from tensorflow.keras.models import Sequential\n",
        "from tensorflow.keras.layers import Dense, Bidirectional, LSTM, Embedding"
      ],
      "metadata": {
        "id": "jE66vDMZwyg2"
      },
      "execution_count": 116,
      "outputs": []
    },
    {
      "cell_type": "code",
      "source": [
        "\n",
        "embedding_dims = 128\n",
        "model = Sequential()\n",
        "model.add(Embedding(vocab_size, embedding_dims))\n",
        "model.add(Bidirectional(LSTM(32, activation='tanh')))\n",
        "model.add(Dense(128, activation='relu'))\n",
        "model.add(Dense(256, activation='relu'))\n",
        "model.add(Dense(64, activation='relu'))\n",
        "\n",
        "model.add(Dense(1, activation='sigmoid'))"
      ],
      "metadata": {
        "id": "-kmj6RdI1wHp"
      },
      "execution_count": 117,
      "outputs": []
    },
    {
      "cell_type": "code",
      "source": [
        "model.compile(optimizer='rmsprop',loss='BinaryCrossentropy', metrics=['accuracy'])"
      ],
      "metadata": {
        "id": "-1fDOO7w3UNF"
      },
      "execution_count": 118,
      "outputs": []
    },
    {
      "cell_type": "code",
      "source": [
        "model.fit(train, epochs=20, validation_data=val)"
      ],
      "metadata": {
        "colab": {
          "base_uri": "https://localhost:8080/"
        },
        "id": "AuS4Jqhj33sQ",
        "outputId": "a693dd0c-1e36-4fa4-aee1-0fb924523f28"
      },
      "execution_count": 119,
      "outputs": [
        {
          "output_type": "stream",
          "name": "stdout",
          "text": [
            "Epoch 1/20\n",
            "1750/1750 [==============================] - 120s 66ms/step - loss: 0.3927 - accuracy: 0.8260 - val_loss: 0.2983 - val_accuracy: 0.8829\n",
            "Epoch 2/20\n",
            "1750/1750 [==============================] - 69s 39ms/step - loss: 0.2589 - accuracy: 0.9034 - val_loss: 0.3053 - val_accuracy: 0.8886\n",
            "Epoch 3/20\n",
            "1750/1750 [==============================] - 63s 36ms/step - loss: 0.2075 - accuracy: 0.9264 - val_loss: 0.3201 - val_accuracy: 0.8701\n",
            "Epoch 4/20\n",
            "1750/1750 [==============================] - 60s 34ms/step - loss: 0.1660 - accuracy: 0.9443 - val_loss: 0.2864 - val_accuracy: 0.8949\n",
            "Epoch 5/20\n",
            "1750/1750 [==============================] - 64s 37ms/step - loss: 0.1256 - accuracy: 0.9580 - val_loss: 0.2901 - val_accuracy: 0.8925\n",
            "Epoch 6/20\n",
            "1750/1750 [==============================] - 63s 36ms/step - loss: 0.0932 - accuracy: 0.9715 - val_loss: 0.3041 - val_accuracy: 0.8959\n",
            "Epoch 7/20\n",
            "1750/1750 [==============================] - 58s 33ms/step - loss: 0.0654 - accuracy: 0.9816 - val_loss: 0.2731 - val_accuracy: 0.8935\n",
            "Epoch 8/20\n",
            "1750/1750 [==============================] - 59s 34ms/step - loss: 0.0446 - accuracy: 0.9883 - val_loss: 0.3270 - val_accuracy: 0.8894\n",
            "Epoch 9/20\n",
            "1750/1750 [==============================] - 63s 36ms/step - loss: 0.0282 - accuracy: 0.9923 - val_loss: 0.4384 - val_accuracy: 0.8972\n",
            "Epoch 10/20\n",
            "1750/1750 [==============================] - 62s 35ms/step - loss: 0.0198 - accuracy: 0.9951 - val_loss: 0.3629 - val_accuracy: 0.8874\n",
            "Epoch 11/20\n",
            "1750/1750 [==============================] - 59s 34ms/step - loss: 0.0134 - accuracy: 0.9967 - val_loss: 0.3946 - val_accuracy: 0.8915\n",
            "Epoch 12/20\n",
            "1750/1750 [==============================] - 58s 33ms/step - loss: 0.0092 - accuracy: 0.9981 - val_loss: 0.4827 - val_accuracy: 0.8844\n",
            "Epoch 13/20\n",
            "1750/1750 [==============================] - 57s 33ms/step - loss: 0.0084 - accuracy: 0.9985 - val_loss: 0.4920 - val_accuracy: 0.8799\n",
            "Epoch 14/20\n",
            "1750/1750 [==============================] - 58s 33ms/step - loss: 0.0039 - accuracy: 0.9994 - val_loss: 0.6839 - val_accuracy: 0.8964\n",
            "Epoch 15/20\n",
            "1750/1750 [==============================] - 59s 34ms/step - loss: 0.0040 - accuracy: 0.9994 - val_loss: 0.7346 - val_accuracy: 0.8920\n",
            "Epoch 16/20\n",
            "1750/1750 [==============================] - 62s 36ms/step - loss: 0.0027 - accuracy: 0.9994 - val_loss: 1.0139 - val_accuracy: 0.8704\n",
            "Epoch 17/20\n",
            "1750/1750 [==============================] - 57s 33ms/step - loss: 0.0032 - accuracy: 0.9995 - val_loss: 1.3988 - val_accuracy: 0.8759\n",
            "Epoch 18/20\n",
            "1750/1750 [==============================] - 63s 36ms/step - loss: 0.0024 - accuracy: 0.9996 - val_loss: 0.9427 - val_accuracy: 0.8864\n",
            "Epoch 19/20\n",
            "1750/1750 [==============================] - 58s 33ms/step - loss: 0.0023 - accuracy: 0.9998 - val_loss: 0.9489 - val_accuracy: 0.8978\n",
            "Epoch 20/20\n",
            "1750/1750 [==============================] - 57s 33ms/step - loss: 0.0018 - accuracy: 0.9998 - val_loss: 0.8554 - val_accuracy: 0.8909\n"
          ]
        }
      ]
    },
    {
      "cell_type": "code",
      "source": [
        "model.save('model.h5')"
      ],
      "metadata": {
        "id": "eTOJ1_Et5k04"
      },
      "execution_count": 120,
      "outputs": []
    },
    {
      "cell_type": "code",
      "source": [
        "history = (model.predict(test) > 0.5).astype(int)"
      ],
      "metadata": {
        "id": "baUgpagCA2MU"
      },
      "execution_count": 120,
      "outputs": []
    }
  ]
}